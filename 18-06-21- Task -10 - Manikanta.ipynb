{
 "cells": [
  {
   "cell_type": "markdown",
   "metadata": {},
   "source": [
    "## Task -10 (Day-11)"
   ]
  },
  {
   "cell_type": "markdown",
   "metadata": {},
   "source": [
    "## Task-1\n",
    "* write a program for getting the last five line from the file"
   ]
  },
  {
   "cell_type": "code",
   "execution_count": 5,
   "metadata": {},
   "outputs": [
    {
     "name": "stdout",
     "output_type": "stream",
     "text": [
      "Your Text File:\n",
      "line5 \n",
      "line6  \n",
      "line7  \n",
      "line8  \n",
      "line9  \n",
      "line10  \n",
      "line11  \n",
      "line12  \n",
      "line13  \n",
      "line14  \n",
      "\n"
     ]
    }
   ],
   "source": [
    "f = open(\"file.txt\",'w')\n",
    "f.write(\"line5 \\n\")\n",
    "f.write(\"line6  \\n\")\n",
    "f.write(\"line7  \\n\")\n",
    "f.write(\"line8  \\n\")\n",
    "f.write(\"line9  \\n\")\n",
    "f.write(\"line10  \\n\")\n",
    "f.write(\"line11  \\n\")\n",
    "f.write(\"line12  \\n\")\n",
    "f.write(\"line13  \\n\")\n",
    "f.write(\"line14  \\n\")\n",
    "\n",
    "f = open('file.txt')\n",
    "print(\"Your Text File:\")\n",
    "print(f.read())\n",
    "f.close()"
   ]
  },
  {
   "cell_type": "markdown",
   "metadata": {},
   "source": [
    "* The last five line from the file"
   ]
  },
  {
   "cell_type": "code",
   "execution_count": 6,
   "metadata": {},
   "outputs": [
    {
     "name": "stdout",
     "output_type": "stream",
     "text": [
      "Last 5 lines from the file:\n",
      "['line10  \\n', 'line11  \\n', 'line12  \\n', 'line13  \\n', 'line14  \\n']\n"
     ]
    }
   ],
   "source": [
    "f = open(\"file.txt\", \"r\")\n",
    "l = f.readlines()\n",
    "s = l[-5:]\n",
    "print(\"Last 5 lines from the file:\")\n",
    "print(s)\n",
    "f.close()"
   ]
  },
  {
   "cell_type": "markdown",
   "metadata": {},
   "source": [
    "## Task-2\n",
    "* Create a function for appending data into a file"
   ]
  },
  {
   "cell_type": "code",
   "execution_count": 9,
   "metadata": {},
   "outputs": [
    {
     "name": "stdout",
     "output_type": "stream",
     "text": [
      "new_line5 \n",
      "new_line6 \n",
      "new_line7 \n",
      "new_line8 \n",
      "\n"
     ]
    }
   ],
   "source": [
    "f = open('new_file.txt','w')\n",
    "f.write(\"new_line5 \\n\")\n",
    "f.write(\"new_line6 \\n\")\n",
    "f.write(\"new_line7 \\n\")\n",
    "f.write(\"new_line8 \\n\")\n",
    "f.close()\n",
    "\n",
    "f = open('new_file.txt')\n",
    "print(f.read())\n",
    "f.close()"
   ]
  },
  {
   "cell_type": "markdown",
   "metadata": {},
   "source": [
    "## Task-3\n",
    "* create a program for updating a word in the file"
   ]
  },
  {
   "cell_type": "code",
   "execution_count": 3,
   "metadata": {},
   "outputs": [
    {
     "name": "stdout",
     "output_type": "stream",
     "text": [
      " Name University Roll_No \n",
      "Manikanta SRM_AP 066 \n",
      "\n"
     ]
    }
   ],
   "source": [
    "import re\n",
    "f = open('file2.txt','w')\n",
    "f.write(\" Name University Roll_No \\n\")\n",
    "f.write(\"Manikanta SRM_AP 066 \\n\")\n",
    "f.close()\n",
    "f = open('file2.txt')\n",
    "print(f.read())"
   ]
  },
  {
   "cell_type": "markdown",
   "metadata": {},
   "source": [
    "* Updating a word in the file"
   ]
  },
  {
   "cell_type": "code",
   "execution_count": 4,
   "metadata": {},
   "outputs": [
    {
     "name": "stdout",
     "output_type": "stream",
     "text": [
      "Updated Data: Manikanta\n",
      " Name University Roll_No \n",
      "Manikanta SRM_AP 066 \n",
      "\n"
     ]
    }
   ],
   "source": [
    "with open('file2.txt','r+') as f:\n",
    "    text = f.read()\n",
    "    text = re.sub('123', input(\"Updated Data: \"), text)\n",
    "    f.seek(0)\n",
    "    f.write(text)\n",
    "    f.truncate()\n",
    "f = open('file2.txt')\n",
    "print(f.read())"
   ]
  },
  {
   "cell_type": "code",
   "execution_count": null,
   "metadata": {},
   "outputs": [],
   "source": []
  }
 ],
 "metadata": {
  "kernelspec": {
   "display_name": "Python 3",
   "language": "python",
   "name": "python3"
  },
  "language_info": {
   "codemirror_mode": {
    "name": "ipython",
    "version": 3
   },
   "file_extension": ".py",
   "mimetype": "text/x-python",
   "name": "python",
   "nbconvert_exporter": "python",
   "pygments_lexer": "ipython3",
   "version": "3.8.5"
  }
 },
 "nbformat": 4,
 "nbformat_minor": 4
}
