{
 "cells": [
  {
   "cell_type": "markdown",
   "metadata": {},
   "source": [
    "## Task 2\n",
    "* Take last 3 values of roll number\n",
    "* If value startswith \"01\" --> 'CSE Dept'\n",
    "* elif value startswith \"11\" --> 'IT Dept'\n",
    "* elif value startswith \"21\" --> \"ECE Dept\"\n",
    "* else not an SRM student"
   ]
  },
  {
   "cell_type": "code",
   "execution_count": 1,
   "metadata": {},
   "outputs": [
    {
     "name": "stdout",
     "output_type": "stream",
     "text": [
      "Enter your roll numberAP19110010014\n",
      "The given roll number AP19110010014 belongs to CSE Dept\n"
     ]
    }
   ],
   "source": [
    "roll_num = input(\"Enter your roll number\")\n",
    "\n",
    "last_three_digits = roll_num[-3:]\n",
    "\n",
    "if last_three_digits.startswith(\"01\"):\n",
    "    print(\"The given roll number {} belongs to CSE Dept\".format(roll_num))\n",
    "elif last_three_digits.startswith(\"11\"):\n",
    "    print(\"The given roll number {} belongs to IT Dept\".format(roll_num))\n",
    "elif last_three_digits.startswith(\"21\"):\n",
    "    print(\"The given roll number {} belongs to ECE Dept\".format(roll_num))\n",
    "else:\n",
    "    print(\"The given roll number {} is not an SRM Student\".format(roll_num))"
   ]
  },
  {
   "cell_type": "markdown",
   "metadata": {},
   "source": [
    "## FEW MORE TEST CASES"
   ]
  },
  {
   "cell_type": "code",
   "execution_count": 2,
   "metadata": {},
   "outputs": [
    {
     "name": "stdout",
     "output_type": "stream",
     "text": [
      "Enter your roll numberAP19110010112\n",
      "The given roll number AP19110010112 belongs to IT Dept\n"
     ]
    }
   ],
   "source": [
    "roll_num = input(\"Enter your roll number\")\n",
    "\n",
    "last_three_digits = roll_num[-3:]\n",
    "\n",
    "if last_three_digits.startswith(\"01\"):\n",
    "    print(\"The given roll number {} belongs to CSE Dept\".format(roll_num))\n",
    "elif last_three_digits.startswith(\"11\"):\n",
    "    print(\"The given roll number {} belongs to IT Dept\".format(roll_num))\n",
    "elif last_three_digits.startswith(\"21\"):\n",
    "    print(\"The given roll number {} belongs to ECE Dept\".format(roll_num))\n",
    "else:\n",
    "    print(\"The given roll number {} is not an SRM Student\".format(roll_num))"
   ]
  },
  {
   "cell_type": "code",
   "execution_count": 3,
   "metadata": {},
   "outputs": [
    {
     "name": "stdout",
     "output_type": "stream",
     "text": [
      "Enter your roll numberAP19110010218\n",
      "The given roll number AP19110010218 belongs to ECE Dept\n"
     ]
    }
   ],
   "source": [
    "roll_num = input(\"Enter your roll number\")\n",
    "\n",
    "last_three_digits = roll_num[-3:]\n",
    "\n",
    "if last_three_digits.startswith(\"01\"):\n",
    "    print(\"The given roll number {} belongs to CSE Dept\".format(roll_num))\n",
    "elif last_three_digits.startswith(\"11\"):\n",
    "    print(\"The given roll number {} belongs to IT Dept\".format(roll_num))\n",
    "elif last_three_digits.startswith(\"21\"):\n",
    "    print(\"The given roll number {} belongs to ECE Dept\".format(roll_num))\n",
    "else:\n",
    "    print(\"The given roll number {} is not an SRM Student\".format(roll_num))"
   ]
  },
  {
   "cell_type": "code",
   "execution_count": 4,
   "metadata": {},
   "outputs": [
    {
     "name": "stdout",
     "output_type": "stream",
     "text": [
      "Enter your roll numberAP191100102000\n",
      "The given roll number AP191100102000 is not an SRM Student\n"
     ]
    }
   ],
   "source": [
    "roll_num = input(\"Enter your roll number\")\n",
    "\n",
    "last_three_digits = roll_num[-3:]\n",
    "\n",
    "if last_three_digits.startswith(\"01\"):\n",
    "    print(\"The given roll number {} belongs to CSE Dept\".format(roll_num))\n",
    "elif last_three_digits.startswith(\"11\"):\n",
    "    print(\"The given roll number {} belongs to IT Dept\".format(roll_num))\n",
    "elif last_three_digits.startswith(\"21\"):\n",
    "    print(\"The given roll number {} belongs to ECE Dept\".format(roll_num))\n",
    "else:\n",
    "    print(\"The given roll number {} is not an SRM Student\".format(roll_num))"
   ]
  },
  {
   "cell_type": "code",
   "execution_count": null,
   "metadata": {},
   "outputs": [],
   "source": []
  }
 ],
 "metadata": {
  "kernelspec": {
   "display_name": "Python 3",
   "language": "python",
   "name": "python3"
  },
  "language_info": {
   "codemirror_mode": {
    "name": "ipython",
    "version": 3
   },
   "file_extension": ".py",
   "mimetype": "text/x-python",
   "name": "python",
   "nbconvert_exporter": "python",
   "pygments_lexer": "ipython3",
   "version": "3.6.10"
  }
 },
 "nbformat": 4,
 "nbformat_minor": 4
}
