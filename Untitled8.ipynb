{
 "cells": [
  {
   "cell_type": "markdown",
   "metadata": {},
   "source": [
    "## Task:\n",
    "\n",
    "### *Write a program to check wheather the user eligible for vote or not\n",
    "### *Check the given number is positive or negative\n",
    "### *Check the given number is even or odd if it's even check which is divisible by 4 or not\n",
    "### *Write a program to print student grade based on percentage like Distinction,pass or fail\n",
    "### *Check the given year is Leap or not\n",
    "### *Write a program to check wheather the user eligible for vote or not"
   ]
  },
  {
   "cell_type": "code",
   "execution_count": 1,
   "metadata": {},
   "outputs": [
    {
     "name": "stdout",
     "output_type": "stream",
     "text": [
      " Enter age: 3\n",
      " Not eligible for vote \n"
     ]
    }
   ],
   "source": [
    "##program to check wheather the user eligible for vote or not\n",
    "\n",
    "a = int(input(\" Enter age: \"))\n",
    "\n",
    "if a >= 18 :\n",
    "    print(\" Eligible for vote \")\n",
    "else: \n",
    "    print(\" Not eligible for vote \")"
   ]
  },
  {
   "cell_type": "code",
   "execution_count": 2,
   "metadata": {},
   "outputs": [
    {
     "name": "stdout",
     "output_type": "stream",
     "text": [
      " Enter number 3\n",
      " Given number is positive \n"
     ]
    }
   ],
   "source": [
    "##program to check the give number is whether positive or negative\n",
    "\n",
    "a = int(input(\" Enter number \"))\n",
    "\n",
    "if a >= 0 :\n",
    "    print(\" Given number is positive \")\n",
    "else:\n",
    "    print(\" Given number is negative\")"
   ]
  },
  {
   "cell_type": "code",
   "execution_count": 3,
   "metadata": {},
   "outputs": [
    {
     "name": "stdout",
     "output_type": "stream",
     "text": [
      " Enter number: 14\n",
      "given number is even and not divisible by 4 \n"
     ]
    }
   ],
   "source": [
    "##program to check the given number is even or odd if it's even check which is divisible by 4 or not\n",
    "\n",
    "a = int(input(\" Enter number: \"))\n",
    "\n",
    "if (a % 2) ==0 :\n",
    "    if (a % 4) ==0:\n",
    "        print(\"given number is even and divisible by 4 \")\n",
    "    else:\n",
    "        print(\"given number is even and not divisible by 4 \")\n",
    "else:\n",
    "    print(\"given number is odd\")"
   ]
  },
  {
   "cell_type": "code",
   "execution_count": 6,
   "metadata": {},
   "outputs": [
    {
     "name": "stdout",
     "output_type": "stream",
     "text": [
      "Enter your grade: 90\n",
      "Distinction Grade A \n"
     ]
    }
   ],
   "source": [
    "# Program to print the student grades based on their percentages\n",
    "x=float(input(\"Enter your grade: \"))\n",
    "if x>=90:\n",
    "    print(\"Distinction Grade A \")\n",
    "elif x>=75:\n",
    "    print(\"Distinction Grade B\")\n",
    "elif x>=50:\n",
    "    print(\"Pass Grade C\")\n",
    "else:\n",
    "    print(\"Fail\")\n",
    "    "
   ]
  },
  {
   "cell_type": "code",
   "execution_count": 5,
   "metadata": {},
   "outputs": [
    {
     "name": "stdout",
     "output_type": "stream",
     "text": [
      "Enter Year: 2020\n",
      "2020 is a Leap Year\n"
     ]
    }
   ],
   "source": [
    "# To check the given year is leap year or not\n",
    "year = int(input(\"Enter Year: \"))\n",
    "\n",
    "if year % 4 == 0 and year % 100 != 0:\n",
    "    print(year, \"is a Leap Year\")\n",
    "elif year % 100 == 0:\n",
    "    print(year, \"is not a Leap Year\")\n",
    "elif year % 400 ==0:\n",
    "    print(year, \"is a Leap Year\")\n",
    "else:\n",
    "    print(year, \"is not a Leap Year\")"
   ]
  },
  {
   "cell_type": "code",
   "execution_count": null,
   "metadata": {},
   "outputs": [],
   "source": []
  }
 ],
 "metadata": {
  "kernelspec": {
   "display_name": "Python 3",
   "language": "python",
   "name": "python3"
  },
  "language_info": {
   "codemirror_mode": {
    "name": "ipython",
    "version": 3
   },
   "file_extension": ".py",
   "mimetype": "text/x-python",
   "name": "python",
   "nbconvert_exporter": "python",
   "pygments_lexer": "ipython3",
   "version": "3.6.10"
  }
 },
 "nbformat": 4,
 "nbformat_minor": 4
}
