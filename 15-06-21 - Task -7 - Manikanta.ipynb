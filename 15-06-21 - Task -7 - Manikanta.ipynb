{
 "cells": [
  {
   "cell_type": "markdown",
   "metadata": {},
   "source": [
    "## Task- 7 (Day - 8)"
   ]
  },
  {
   "cell_type": "markdown",
   "metadata": {},
   "source": [
    "#### Create a function for finding the leap years in the given range"
   ]
  },
  {
   "cell_type": "code",
   "execution_count": 3,
   "metadata": {},
   "outputs": [
    {
     "name": "stdout",
     "output_type": "stream",
     "text": [
      "Enter the starting year: 2001\n",
      "Enter the last year: 2025\n",
      "Leap years between the range 2001 and 2025 are\n",
      "2004\n",
      "2008\n",
      "2012\n",
      "2016\n",
      "2020\n",
      "2024\n"
     ]
    }
   ],
   "source": [
    "def leap_year(x):\n",
    "    if (x%4==0 and x%100!=0 or x%400==0):\n",
    "        return True\n",
    "    else:\n",
    "        return False\n",
    "start = int(input(\"Enter the starting year: \"))\n",
    "end = int(input(\"Enter the last year: \"))\n",
    "print(\"Leap years between the range\", start, \"and\", end, \"are\")\n",
    "for i in range(start, end):\n",
    "    if leap_year(i) == True:\n",
    "        print(i)"
   ]
  },
  {
   "cell_type": "markdown",
   "metadata": {},
   "source": [
    "### Create a function for getting armstrong numbers within the given range"
   ]
  },
  {
   "cell_type": "code",
   "execution_count": 4,
   "metadata": {},
   "outputs": [
    {
     "name": "stdout",
     "output_type": "stream",
     "text": [
      "Enter the start number: 10\n",
      "Enter the last number: 10000\n",
      "The Armstrong numbers from 10 to 10000 are\n",
      "153\n",
      "370\n",
      "371\n",
      "407\n",
      "1634\n",
      "8208\n",
      "9474\n"
     ]
    }
   ],
   "source": [
    "def armstrong(x, y):\n",
    "    for i in range(x, y+1):\n",
    "        num = i\n",
    "        result = 0\n",
    "        n = len(str(i))\n",
    "        while(i != 0):\n",
    "            digit = i % 10\n",
    "            result = result + digit ** n\n",
    "            i = i//10\n",
    "        if num == result:\n",
    "            print(num)\n",
    "initial = int(input(\"Enter the start number: \"))\n",
    "final = int(input(\"Enter the last number: \"))\n",
    "print(\"The Armstrong numbers from\", initial, \"to\", final, \"are\")\n",
    "armstrong(initial, final)"
   ]
  },
  {
   "cell_type": "markdown",
   "metadata": {},
   "source": [
    "### Create a function for getting the prime numbers within the range"
   ]
  },
  {
   "cell_type": "code",
   "execution_count": 6,
   "metadata": {},
   "outputs": [
    {
     "name": "stdout",
     "output_type": "stream",
     "text": [
      "Enter the start number: 3\n",
      "Enter the end number: 33\n",
      "Prime numbers between 3 and 33 are\n",
      "3\n",
      "5\n",
      "7\n",
      "11\n",
      "13\n",
      "17\n",
      "19\n",
      "23\n",
      "29\n",
      "31\n"
     ]
    }
   ],
   "source": [
    "def prime_number(x1, x2):\n",
    "    for number in range(x1, x2+1):\n",
    "        for i in range(2, number):\n",
    "            if number%i == 0:\n",
    "                break\n",
    "        else:\n",
    "            print(number)\n",
    "    \n",
    "start = int(input(\"Enter the start number: \"))\n",
    "end = int(input(\"Enter the end number: \"))\n",
    "print(\"Prime numbers between\", start, \"and\", end, \"are\")\n",
    "prime_number(start,end)"
   ]
  },
  {
   "cell_type": "markdown",
   "metadata": {},
   "source": [
    "### Create a function for finding the count of elements in a string"
   ]
  },
  {
   "cell_type": "code",
   "execution_count": 7,
   "metadata": {},
   "outputs": [
    {
     "name": "stdout",
     "output_type": "stream",
     "text": [
      "Enter a string: APSSDC internship\n",
      "Count of elements in the string is: 17\n"
     ]
    }
   ],
   "source": [
    "def count(string):\n",
    "    count_str = 0\n",
    "    for i in string:\n",
    "        count_str = count_str + 1\n",
    "    return count_str \n",
    "inp = input(\"Enter a string: \")\n",
    "print(\"Count of elements in the string is:\",count(inp))"
   ]
  },
  {
   "cell_type": "code",
   "execution_count": null,
   "metadata": {},
   "outputs": [],
   "source": []
  }
 ],
 "metadata": {
  "kernelspec": {
   "display_name": "Python 3",
   "language": "python",
   "name": "python3"
  },
  "language_info": {
   "codemirror_mode": {
    "name": "ipython",
    "version": 3
   },
   "file_extension": ".py",
   "mimetype": "text/x-python",
   "name": "python",
   "nbconvert_exporter": "python",
   "pygments_lexer": "ipython3",
   "version": "3.8.5"
  }
 },
 "nbformat": 4,
 "nbformat_minor": 4
}
