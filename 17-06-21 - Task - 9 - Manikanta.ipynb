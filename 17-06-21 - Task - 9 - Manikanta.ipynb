{
 "cells": [
  {
   "cell_type": "markdown",
   "metadata": {},
   "source": [
    "## Task - 9 (Day- 10)"
   ]
  },
  {
   "cell_type": "markdown",
   "metadata": {},
   "source": [
    "Generate a 3 digit OTP from 2 different Classes Mail class and Phone class return 6 digit OTP from both Base classes\n",
    "\n",
    "* 3-Digit OTP from two different classes(Mail Class & Phone Class)"
   ]
  },
  {
   "cell_type": "code",
   "execution_count": 3,
   "metadata": {},
   "outputs": [],
   "source": [
    "import random"
   ]
  },
  {
   "cell_type": "code",
   "execution_count": 5,
   "metadata": {},
   "outputs": [],
   "source": [
    "class Mail:\n",
    "    def __init__(self):\n",
    "        self.s1 = random.randint(100, 999)\n",
    "        print(\"Your 3-digit OTP is: \",self.s1)\n",
    "class Phone:\n",
    "    def __init__(self):\n",
    "        self.s2 = random.randint(100, 999)\n",
    "        print(\"Your 3-digit OTP is: \",self.s2)\n",
    "class otp(Mail, Phone):\n",
    "    def __init__(self):\n",
    "        Mail.__init__(self)\n",
    "        Phone.__init__(self)\n",
    "        print(\"Your 6-digit OTP is: \",str(self.s1)+str(self.s2))"
   ]
  },
  {
   "cell_type": "code",
   "execution_count": 6,
   "metadata": {},
   "outputs": [
    {
     "name": "stdout",
     "output_type": "stream",
     "text": [
      "Your 3-digit OTP is:  694\n",
      "Your 3-digit OTP is:  698\n",
      "Your 6-digit OTP is:  694698\n"
     ]
    }
   ],
   "source": [
    "obj = otp()"
   ]
  },
  {
   "cell_type": "code",
   "execution_count": null,
   "metadata": {},
   "outputs": [],
   "source": []
  }
 ],
 "metadata": {
  "kernelspec": {
   "display_name": "Python 3",
   "language": "python",
   "name": "python3"
  },
  "language_info": {
   "codemirror_mode": {
    "name": "ipython",
    "version": 3
   },
   "file_extension": ".py",
   "mimetype": "text/x-python",
   "name": "python",
   "nbconvert_exporter": "python",
   "pygments_lexer": "ipython3",
   "version": "3.8.5"
  }
 },
 "nbformat": 4,
 "nbformat_minor": 4
}
