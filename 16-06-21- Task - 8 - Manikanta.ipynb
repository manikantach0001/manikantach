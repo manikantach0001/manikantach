{
 "cells": [
  {
   "cell_type": "markdown",
   "metadata": {},
   "source": [
    "## Task - 8 (Day -9)\n",
    "* Write a program in module\n",
    "* Ask the user to enter the data\n",
    "* Check the data if it's camelcase print Like (Thumbsup)emoji\n",
    "* Else convert the data into camelcase then speakout Successfully converted your data into camel case"
   ]
  },
  {
   "cell_type": "code",
   "execution_count": 1,
   "metadata": {},
   "outputs": [
    {
     "name": "stdout",
     "output_type": "stream",
     "text": [
      "Enter the data:   welcome to srm\n",
      "Welcome To Srm\n"
     ]
    }
   ],
   "source": [
    "#Testcase-1\n",
    "import camelcase\n",
    "import emoji\n",
    "import pyttsx3\n",
    "\n",
    "data=input(\"Enter the data:   \")\n",
    "i=camelcase.CamelCase()\n",
    "\n",
    "\n",
    "if data==i.hump(data):\n",
    "     print(u\"\\U0001F44D\")\n",
    "    \n",
    "else:\n",
    "    print(i.hump(data))\n",
    "    spk = pyttsx3.init()\n",
    "    spk.say(\"Successfully converted your data into camel case\")\n",
    "    spk.runAndWait()"
   ]
  },
  {
   "cell_type": "code",
   "execution_count": 5,
   "metadata": {},
   "outputs": [
    {
     "name": "stdout",
     "output_type": "stream",
     "text": [
      "Enter the data:   Srm University-Amaravati\n",
      "👍\n"
     ]
    }
   ],
   "source": [
    "#Testcase-2\n",
    "import camelcase\n",
    "import emoji\n",
    "import pyttsx3\n",
    "\n",
    "data=input(\"Enter the data:   \")\n",
    "i=camelcase.CamelCase()\n",
    "\n",
    "\n",
    "if data==i.hump(data):\n",
    "     print(emoji.emojize(\":thumbs_up:\"))\n",
    "    \n",
    "else:\n",
    "    print(i.hump(data))\n",
    "    spk = pyttsx3.init()\n",
    "    spk.say(\"Successfully converted your data into camel case\")\n",
    "    spk.runAndWait()"
   ]
  },
  {
   "cell_type": "code",
   "execution_count": null,
   "metadata": {},
   "outputs": [],
   "source": []
  }
 ],
 "metadata": {
  "kernelspec": {
   "display_name": "Python 3",
   "language": "python",
   "name": "python3"
  },
  "language_info": {
   "codemirror_mode": {
    "name": "ipython",
    "version": 3
   },
   "file_extension": ".py",
   "mimetype": "text/x-python",
   "name": "python",
   "nbconvert_exporter": "python",
   "pygments_lexer": "ipython3",
   "version": "3.8.5"
  }
 },
 "nbformat": 4,
 "nbformat_minor": 5
}
